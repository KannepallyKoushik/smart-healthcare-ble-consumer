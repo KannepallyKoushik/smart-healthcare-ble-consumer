{
 "cells": [
  {
   "cell_type": "code",
   "execution_count": 11,
   "metadata": {},
   "outputs": [],
   "source": [
    "import pika\n",
    "import json\n",
    "import time"
   ]
  },
  {
   "cell_type": "code",
   "execution_count": 12,
   "metadata": {},
   "outputs": [
    {
     "data": {
      "text/plain": [
       "<METHOD(['channel_number=1', 'frame_type=1', 'method=<Exchange.DeclareOk>'])>"
      ]
     },
     "execution_count": 12,
     "metadata": {},
     "output_type": "execute_result"
    }
   ],
   "source": [
    "connection = pika.BlockingConnection(pika.ConnectionParameters('localhost'))\n",
    "channel = connection.channel()\n",
    "\n",
    "routing_key = \"hr.*\"\n",
    "topic_name = 'heart_rate'\n",
    "\n",
    "channel.exchange_declare(exchange=topic_name, exchange_type='topic')"
   ]
  },
  {
   "cell_type": "code",
   "execution_count": 13,
   "metadata": {},
   "outputs": [],
   "source": [
    "def publish_to_broker(topic_name,routing_key,message):\n",
    "    channel.basic_publish(exchange=topic_name, routing_key=routing_key, body=message)\n",
    "    print(\" [x] Sent %r:%r\" % (routing_key, message))"
   ]
  },
  {
   "cell_type": "code",
   "execution_count": null,
   "metadata": {},
   "outputs": [
    {
     "name": "stdout",
     "output_type": "stream",
     "text": [
      " [x] Sent 'hr.*':'{\"dateTime\": \"2019-11-01 00:00:05\", \"value\": {\"bpm\": 54, \"confidence\": 3}}'\n",
      "{'dateTime': '2019-11-01 00:00:05', 'value': {'bpm': 54, 'confidence': 3}}\n",
      " [x] Sent 'hr.*':'{\"dateTime\": \"2019-11-01 00:00:10\", \"value\": {\"bpm\": 52, \"confidence\": 3}}'\n",
      "{'dateTime': '2019-11-01 00:00:10', 'value': {'bpm': 52, 'confidence': 3}}\n",
      " [x] Sent 'hr.*':'{\"dateTime\": \"2019-11-01 00:00:20\", \"value\": {\"bpm\": 51, \"confidence\": 3}}'\n",
      "{'dateTime': '2019-11-01 00:00:20', 'value': {'bpm': 51, 'confidence': 3}}\n",
      " [x] Sent 'hr.*':'{\"dateTime\": \"2019-11-01 00:00:25\", \"value\": {\"bpm\": 52, \"confidence\": 3}}'\n",
      "{'dateTime': '2019-11-01 00:00:25', 'value': {'bpm': 52, 'confidence': 3}}\n",
      " [x] Sent 'hr.*':'{\"dateTime\": \"2019-11-01 00:00:30\", \"value\": {\"bpm\": 51, \"confidence\": 3}}'\n",
      "{'dateTime': '2019-11-01 00:00:30', 'value': {'bpm': 51, 'confidence': 3}}\n",
      " [x] Sent 'hr.*':'{\"dateTime\": \"2019-11-01 00:00:35\", \"value\": {\"bpm\": 52, \"confidence\": 3}}'\n",
      "{'dateTime': '2019-11-01 00:00:35', 'value': {'bpm': 52, 'confidence': 3}}\n",
      " [x] Sent 'hr.*':'{\"dateTime\": \"2019-11-01 00:00:45\", \"value\": {\"bpm\": 53, \"confidence\": 3}}'\n",
      "{'dateTime': '2019-11-01 00:00:45', 'value': {'bpm': 53, 'confidence': 3}}\n",
      " [x] Sent 'hr.*':'{\"dateTime\": \"2019-11-01 00:00:50\", \"value\": {\"bpm\": 56, \"confidence\": 3}}'\n",
      "{'dateTime': '2019-11-01 00:00:50', 'value': {'bpm': 56, 'confidence': 3}}\n",
      " [x] Sent 'hr.*':'{\"dateTime\": \"2019-11-01 00:00:55\", \"value\": {\"bpm\": 54, \"confidence\": 3}}'\n",
      "{'dateTime': '2019-11-01 00:00:55', 'value': {'bpm': 54, 'confidence': 3}}\n",
      " [x] Sent 'hr.*':'{\"dateTime\": \"2019-11-01 00:01:00\", \"value\": {\"bpm\": 53, \"confidence\": 3}}'\n",
      "{'dateTime': '2019-11-01 00:01:00', 'value': {'bpm': 53, 'confidence': 3}}\n",
      " [x] Sent 'hr.*':'{\"dateTime\": \"2019-11-01 00:01:15\", \"value\": {\"bpm\": 52, \"confidence\": 3}}'\n",
      "{'dateTime': '2019-11-01 00:01:15', 'value': {'bpm': 52, 'confidence': 3}}\n",
      " [x] Sent 'hr.*':'{\"dateTime\": \"2019-11-01 00:01:25\", \"value\": {\"bpm\": 53, \"confidence\": 3}}'\n",
      "{'dateTime': '2019-11-01 00:01:25', 'value': {'bpm': 53, 'confidence': 3}}\n",
      " [x] Sent 'hr.*':'{\"dateTime\": \"2019-11-01 00:01:30\", \"value\": {\"bpm\": 54, \"confidence\": 3}}'\n",
      "{'dateTime': '2019-11-01 00:01:30', 'value': {'bpm': 54, 'confidence': 3}}\n",
      " [x] Sent 'hr.*':'{\"dateTime\": \"2019-11-01 00:01:35\", \"value\": {\"bpm\": 53, \"confidence\": 3}}'\n",
      "{'dateTime': '2019-11-01 00:01:35', 'value': {'bpm': 53, 'confidence': 3}}\n",
      " [x] Sent 'hr.*':'{\"dateTime\": \"2019-11-01 00:01:45\", \"value\": {\"bpm\": 58, \"confidence\": 3}}'\n",
      "{'dateTime': '2019-11-01 00:01:45', 'value': {'bpm': 58, 'confidence': 3}}\n",
      " [x] Sent 'hr.*':'{\"dateTime\": \"2019-11-01 00:01:50\", \"value\": {\"bpm\": 57, \"confidence\": 3}}'\n",
      "{'dateTime': '2019-11-01 00:01:50', 'value': {'bpm': 57, 'confidence': 3}}\n",
      " [x] Sent 'hr.*':'{\"dateTime\": \"2019-11-01 00:01:55\", \"value\": {\"bpm\": 52, \"confidence\": 3}}'\n",
      "{'dateTime': '2019-11-01 00:01:55', 'value': {'bpm': 52, 'confidence': 3}}\n",
      " [x] Sent 'hr.*':'{\"dateTime\": \"2019-11-01 00:02:00\", \"value\": {\"bpm\": 50, \"confidence\": 3}}'\n",
      "{'dateTime': '2019-11-01 00:02:00', 'value': {'bpm': 50, 'confidence': 3}}\n",
      " [x] Sent 'hr.*':'{\"dateTime\": \"2019-11-01 00:02:10\", \"value\": {\"bpm\": 51, \"confidence\": 3}}'\n",
      "{'dateTime': '2019-11-01 00:02:10', 'value': {'bpm': 51, 'confidence': 3}}\n",
      " [x] Sent 'hr.*':'{\"dateTime\": \"2019-11-01 00:02:15\", \"value\": {\"bpm\": 52, \"confidence\": 3}}'\n",
      "{'dateTime': '2019-11-01 00:02:15', 'value': {'bpm': 52, 'confidence': 3}}\n",
      " [x] Sent 'hr.*':'{\"dateTime\": \"2019-11-01 00:02:30\", \"value\": {\"bpm\": 53, \"confidence\": 3}}'\n",
      "{'dateTime': '2019-11-01 00:02:30', 'value': {'bpm': 53, 'confidence': 3}}\n",
      " [x] Sent 'hr.*':'{\"dateTime\": \"2019-11-01 00:02:35\", \"value\": {\"bpm\": 54, \"confidence\": 3}}'\n",
      "{'dateTime': '2019-11-01 00:02:35', 'value': {'bpm': 54, 'confidence': 3}}\n",
      " [x] Sent 'hr.*':'{\"dateTime\": \"2019-11-01 00:02:40\", \"value\": {\"bpm\": 53, \"confidence\": 3}}'\n",
      "{'dateTime': '2019-11-01 00:02:40', 'value': {'bpm': 53, 'confidence': 3}}\n",
      " [x] Sent 'hr.*':'{\"dateTime\": \"2019-11-01 00:02:50\", \"value\": {\"bpm\": 54, \"confidence\": 3}}'\n",
      "{'dateTime': '2019-11-01 00:02:50', 'value': {'bpm': 54, 'confidence': 3}}\n",
      " [x] Sent 'hr.*':'{\"dateTime\": \"2019-11-01 00:02:55\", \"value\": {\"bpm\": 53, \"confidence\": 3}}'\n",
      "{'dateTime': '2019-11-01 00:02:55', 'value': {'bpm': 53, 'confidence': 3}}\n",
      " [x] Sent 'hr.*':'{\"dateTime\": \"2019-11-01 00:03:00\", \"value\": {\"bpm\": 52, \"confidence\": 3}}'\n",
      "{'dateTime': '2019-11-01 00:03:00', 'value': {'bpm': 52, 'confidence': 3}}\n",
      " [x] Sent 'hr.*':'{\"dateTime\": \"2019-11-01 00:03:05\", \"value\": {\"bpm\": 53, \"confidence\": 3}}'\n",
      "{'dateTime': '2019-11-01 00:03:05', 'value': {'bpm': 53, 'confidence': 3}}\n",
      " [x] Sent 'hr.*':'{\"dateTime\": \"2019-11-01 00:03:10\", \"value\": {\"bpm\": 52, \"confidence\": 3}}'\n",
      "{'dateTime': '2019-11-01 00:03:10', 'value': {'bpm': 52, 'confidence': 3}}\n",
      " [x] Sent 'hr.*':'{\"dateTime\": \"2019-11-01 00:03:15\", \"value\": {\"bpm\": 54, \"confidence\": 3}}'\n",
      "{'dateTime': '2019-11-01 00:03:15', 'value': {'bpm': 54, 'confidence': 3}}\n",
      " [x] Sent 'hr.*':'{\"dateTime\": \"2019-11-01 00:03:20\", \"value\": {\"bpm\": 57, \"confidence\": 3}}'\n",
      "{'dateTime': '2019-11-01 00:03:20', 'value': {'bpm': 57, 'confidence': 3}}\n",
      " [x] Sent 'hr.*':'{\"dateTime\": \"2019-11-01 00:03:25\", \"value\": {\"bpm\": 56, \"confidence\": 3}}'\n",
      "{'dateTime': '2019-11-01 00:03:25', 'value': {'bpm': 56, 'confidence': 3}}\n",
      " [x] Sent 'hr.*':'{\"dateTime\": \"2019-11-01 00:03:30\", \"value\": {\"bpm\": 54, \"confidence\": 3}}'\n",
      "{'dateTime': '2019-11-01 00:03:30', 'value': {'bpm': 54, 'confidence': 3}}\n",
      " [x] Sent 'hr.*':'{\"dateTime\": \"2019-11-01 00:03:35\", \"value\": {\"bpm\": 53, \"confidence\": 3}}'\n",
      "{'dateTime': '2019-11-01 00:03:35', 'value': {'bpm': 53, 'confidence': 3}}\n",
      " [x] Sent 'hr.*':'{\"dateTime\": \"2019-11-01 00:03:40\", \"value\": {\"bpm\": 54, \"confidence\": 3}}'\n",
      "{'dateTime': '2019-11-01 00:03:40', 'value': {'bpm': 54, 'confidence': 3}}\n",
      " [x] Sent 'hr.*':'{\"dateTime\": \"2019-11-01 00:03:45\", \"value\": {\"bpm\": 53, \"confidence\": 3}}'\n",
      "{'dateTime': '2019-11-01 00:03:45', 'value': {'bpm': 53, 'confidence': 3}}\n"
     ]
    }
   ],
   "source": [
    "f = open('heart_rate.json',)\n",
    "data = json.load(f)\n",
    "\n",
    "thresh = 40\n",
    "for i in data['HR']:\n",
    "    msg = json.dumps(i)\n",
    "    thresh = thresh -1\n",
    "    if thresh ==0 :\n",
    "        break\n",
    "    publish_to_broker(topic_name, routing_key,msg)\n",
    "    print(i)\n",
    "    time.sleep(4)\n",
    "    \n",
    "    \n",
    "f.close()"
   ]
  },
  {
   "cell_type": "code",
   "execution_count": null,
   "metadata": {},
   "outputs": [],
   "source": []
  }
 ],
 "metadata": {
  "kernelspec": {
   "display_name": "Python 3",
   "language": "python",
   "name": "python3"
  },
  "language_info": {
   "codemirror_mode": {
    "name": "ipython",
    "version": 3
   },
   "file_extension": ".py",
   "mimetype": "text/x-python",
   "name": "python",
   "nbconvert_exporter": "python",
   "pygments_lexer": "ipython3",
   "version": "3.8.5"
  }
 },
 "nbformat": 4,
 "nbformat_minor": 4
}
