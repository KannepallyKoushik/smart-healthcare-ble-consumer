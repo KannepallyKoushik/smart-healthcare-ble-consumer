{
 "cells": [
  {
   "cell_type": "code",
   "execution_count": 1,
   "metadata": {},
   "outputs": [
    {
     "name": "stdout",
     "output_type": "stream",
     "text": [
      "Collecting pika\n",
      "  Downloading pika-1.2.0-py2.py3-none-any.whl (154 kB)\n",
      "Installing collected packages: pika\n",
      "Successfully installed pika-1.2.0\n"
     ]
    }
   ],
   "source": [
    "!pip install pika"
   ]
  },
  {
   "cell_type": "code",
   "execution_count": 1,
   "metadata": {},
   "outputs": [],
   "source": [
    "import pika\n",
    "import json\n",
    "import time"
   ]
  },
  {
   "cell_type": "markdown",
   "metadata": {},
   "source": [
    "## Making Connection to Rabbit MQ broker with topic name and routing key"
   ]
  },
  {
   "cell_type": "code",
   "execution_count": 2,
   "metadata": {},
   "outputs": [
    {
     "data": {
      "text/plain": [
       "<METHOD(['channel_number=1', 'frame_type=1', 'method=<Exchange.DeclareOk>'])>"
      ]
     },
     "execution_count": 2,
     "metadata": {},
     "output_type": "execute_result"
    }
   ],
   "source": [
    "connection = pika.BlockingConnection(pika.ConnectionParameters('localhost'))\n",
    "channel = connection.channel()\n",
    "\n",
    "routing_key = \"bp.*\"\n",
    "topic_name = 'blood_pressure'\n",
    "\n",
    "channel.exchange_declare(exchange=topic_name, exchange_type='topic')"
   ]
  },
  {
   "cell_type": "markdown",
   "metadata": {},
   "source": [
    "## Publishing the Data to Broker"
   ]
  },
  {
   "cell_type": "code",
   "execution_count": 3,
   "metadata": {},
   "outputs": [],
   "source": [
    "def publish_to_broker(topic_name,routing_key,message):\n",
    "    channel.basic_publish(exchange=topic_name, routing_key=routing_key, body=message)\n",
    "    print(\" [x] Sent %r:%r\" % (routing_key, message))"
   ]
  },
  {
   "cell_type": "markdown",
   "metadata": {},
   "source": [
    "## Simulating Bluetooth Data"
   ]
  },
  {
   "cell_type": "code",
   "execution_count": null,
   "metadata": {},
   "outputs": [
    {
     "name": "stdout",
     "output_type": "stream",
     "text": [
      " [x] Sent 'bp.*':'{\"systolic_blood_pressure\": {\"value\": 82, \"unit\": \"mmHg\"}, \"diastolic_blood_pressure\": {\"value\": 75, \"unit\": \"mmHg\"}, \"effective_time_frame\": {\"date_time\": \"2020-07-12T07:26:15-08:36\"}}'\n",
      " [x] Sent 'bp.*':'{\"systolic_blood_pressure\": {\"value\": 136, \"unit\": \"mmHg\"}, \"diastolic_blood_pressure\": {\"value\": 69, \"unit\": \"mmHg\"}, \"effective_time_frame\": {\"date_time\": \"2020-08-17T02:57:04-06:28\"}}'\n",
      " [x] Sent 'bp.*':'{\"systolic_blood_pressure\": {\"value\": 158, \"unit\": \"mmHg\"}, \"diastolic_blood_pressure\": {\"value\": 78, \"unit\": \"mmHg\"}, \"effective_time_frame\": {\"date_time\": \"2020-02-12T02:12:03-03:18\"}}'\n",
      " [x] Sent 'bp.*':'{\"systolic_blood_pressure\": {\"value\": 174, \"unit\": \"mmHg\"}, \"diastolic_blood_pressure\": {\"value\": 40, \"unit\": \"mmHg\"}, \"effective_time_frame\": {\"date_time\": \"2020-06-28T20:23:34-05:37\"}}'\n",
      " [x] Sent 'bp.*':'{\"systolic_blood_pressure\": {\"value\": 120, \"unit\": \"mmHg\"}, \"diastolic_blood_pressure\": {\"value\": 89, \"unit\": \"mmHg\"}, \"effective_time_frame\": {\"date_time\": \"2020-05-21T07:51:40-00:39\"}}'\n",
      " [x] Sent 'bp.*':'{\"systolic_blood_pressure\": {\"value\": 127, \"unit\": \"mmHg\"}, \"diastolic_blood_pressure\": {\"value\": 104, \"unit\": \"mmHg\"}, \"effective_time_frame\": {\"date_time\": \"2020-01-05T09:28:06-03:07\"}}'\n",
      " [x] Sent 'bp.*':'{\"systolic_blood_pressure\": {\"value\": 120, \"unit\": \"mmHg\"}, \"diastolic_blood_pressure\": {\"value\": 128, \"unit\": \"mmHg\"}, \"effective_time_frame\": {\"date_time\": \"2020-10-06T21:33:13-01:10\"}}'\n",
      " [x] Sent 'bp.*':'{\"systolic_blood_pressure\": {\"value\": 71, \"unit\": \"mmHg\"}, \"diastolic_blood_pressure\": {\"value\": 58, \"unit\": \"mmHg\"}, \"effective_time_frame\": {\"date_time\": \"2020-03-25T16:08:40-02:52\"}}'\n",
      " [x] Sent 'bp.*':'{\"systolic_blood_pressure\": {\"value\": 86, \"unit\": \"mmHg\"}, \"diastolic_blood_pressure\": {\"value\": 51, \"unit\": \"mmHg\"}, \"effective_time_frame\": {\"date_time\": \"2020-11-25T12:24:18-00:03\"}}'\n",
      " [x] Sent 'bp.*':'{\"systolic_blood_pressure\": {\"value\": 180, \"unit\": \"mmHg\"}, \"diastolic_blood_pressure\": {\"value\": 107, \"unit\": \"mmHg\"}, \"effective_time_frame\": {\"date_time\": \"2020-07-10T20:23:00-01:10\"}}'\n",
      " [x] Sent 'bp.*':'{\"systolic_blood_pressure\": {\"value\": 90, \"unit\": \"mmHg\"}, \"diastolic_blood_pressure\": {\"value\": 128, \"unit\": \"mmHg\"}, \"effective_time_frame\": {\"date_time\": \"2020-04-05T13:52:41-06:23\"}}'\n",
      " [x] Sent 'bp.*':'{\"systolic_blood_pressure\": {\"value\": 73, \"unit\": \"mmHg\"}, \"diastolic_blood_pressure\": {\"value\": 47, \"unit\": \"mmHg\"}, \"effective_time_frame\": {\"date_time\": \"2020-10-02T17:08:58-03:24\"}}'\n",
      " [x] Sent 'bp.*':'{\"systolic_blood_pressure\": {\"value\": 155, \"unit\": \"mmHg\"}, \"diastolic_blood_pressure\": {\"value\": 71, \"unit\": \"mmHg\"}, \"effective_time_frame\": {\"date_time\": \"2020-05-01T12:14:27-06:22\"}}'\n",
      " [x] Sent 'bp.*':'{\"systolic_blood_pressure\": {\"value\": 74, \"unit\": \"mmHg\"}, \"diastolic_blood_pressure\": {\"value\": 55, \"unit\": \"mmHg\"}, \"effective_time_frame\": {\"date_time\": \"2020-05-25T10:23:12-04:18\"}}'\n",
      " [x] Sent 'bp.*':'{\"systolic_blood_pressure\": {\"value\": 124, \"unit\": \"mmHg\"}, \"diastolic_blood_pressure\": {\"value\": 65, \"unit\": \"mmHg\"}, \"effective_time_frame\": {\"date_time\": \"2020-11-15T22:47:03-02:47\"}}'\n",
      " [x] Sent 'bp.*':'{\"systolic_blood_pressure\": {\"value\": 118, \"unit\": \"mmHg\"}, \"diastolic_blood_pressure\": {\"value\": 73, \"unit\": \"mmHg\"}, \"effective_time_frame\": {\"date_time\": \"2020-08-12T00:16:45-07:24\"}}'\n",
      " [x] Sent 'bp.*':'{\"systolic_blood_pressure\": {\"value\": 188, \"unit\": \"mmHg\"}, \"diastolic_blood_pressure\": {\"value\": 77, \"unit\": \"mmHg\"}, \"effective_time_frame\": {\"date_time\": \"2020-03-04T14:16:48-06:14\"}}'\n",
      " [x] Sent 'bp.*':'{\"systolic_blood_pressure\": {\"value\": 90, \"unit\": \"mmHg\"}, \"diastolic_blood_pressure\": {\"value\": 80, \"unit\": \"mmHg\"}, \"effective_time_frame\": {\"date_time\": \"2020-09-27T10:30:24-07:32\"}}'\n",
      " [x] Sent 'bp.*':'{\"systolic_blood_pressure\": {\"value\": 178, \"unit\": \"mmHg\"}, \"diastolic_blood_pressure\": {\"value\": 60, \"unit\": \"mmHg\"}, \"effective_time_frame\": {\"date_time\": \"2020-07-21T18:20:45-02:45\"}}'\n",
      " [x] Sent 'bp.*':'{\"systolic_blood_pressure\": {\"value\": 151, \"unit\": \"mmHg\"}, \"diastolic_blood_pressure\": {\"value\": 93, \"unit\": \"mmHg\"}, \"effective_time_frame\": {\"date_time\": \"2020-02-19T03:46:51-00:40\"}}'\n",
      " [x] Sent 'bp.*':'{\"systolic_blood_pressure\": {\"value\": 89, \"unit\": \"mmHg\"}, \"diastolic_blood_pressure\": {\"value\": 92, \"unit\": \"mmHg\"}, \"effective_time_frame\": {\"date_time\": \"2020-05-04T02:10:17-06:35\"}}'\n",
      " [x] Sent 'bp.*':'{\"systolic_blood_pressure\": {\"value\": 98, \"unit\": \"mmHg\"}, \"diastolic_blood_pressure\": {\"value\": 48, \"unit\": \"mmHg\"}, \"effective_time_frame\": {\"date_time\": \"2020-05-04T11:32:27-07:16\"}}'\n",
      " [x] Sent 'bp.*':'{\"systolic_blood_pressure\": {\"value\": 151, \"unit\": \"mmHg\"}, \"diastolic_blood_pressure\": {\"value\": 43, \"unit\": \"mmHg\"}, \"effective_time_frame\": {\"date_time\": \"2020-06-06T15:45:02-00:38\"}}'\n",
      " [x] Sent 'bp.*':'{\"systolic_blood_pressure\": {\"value\": 141, \"unit\": \"mmHg\"}, \"diastolic_blood_pressure\": {\"value\": 52, \"unit\": \"mmHg\"}, \"effective_time_frame\": {\"date_time\": \"2020-06-24T13:28:32-06:48\"}}'\n",
      " [x] Sent 'bp.*':'{\"systolic_blood_pressure\": {\"value\": 186, \"unit\": \"mmHg\"}, \"diastolic_blood_pressure\": {\"value\": 82, \"unit\": \"mmHg\"}, \"effective_time_frame\": {\"date_time\": \"2020-10-16T17:57:15-02:42\"}}'\n",
      " [x] Sent 'bp.*':'{\"systolic_blood_pressure\": {\"value\": 164, \"unit\": \"mmHg\"}, \"diastolic_blood_pressure\": {\"value\": 96, \"unit\": \"mmHg\"}, \"effective_time_frame\": {\"date_time\": \"2020-09-28T16:42:11-05:44\"}}'\n",
      " [x] Sent 'bp.*':'{\"systolic_blood_pressure\": {\"value\": 155, \"unit\": \"mmHg\"}, \"diastolic_blood_pressure\": {\"value\": 126, \"unit\": \"mmHg\"}, \"effective_time_frame\": {\"date_time\": \"2020-02-16T11:34:17-00:42\"}}'\n",
      " [x] Sent 'bp.*':'{\"systolic_blood_pressure\": {\"value\": 165, \"unit\": \"mmHg\"}, \"diastolic_blood_pressure\": {\"value\": 43, \"unit\": \"mmHg\"}, \"effective_time_frame\": {\"date_time\": \"2020-05-26T01:49:48-01:55\"}}'\n",
      " [x] Sent 'bp.*':'{\"systolic_blood_pressure\": {\"value\": 125, \"unit\": \"mmHg\"}, \"diastolic_blood_pressure\": {\"value\": 87, \"unit\": \"mmHg\"}, \"effective_time_frame\": {\"date_time\": \"2020-03-15T02:26:43-05:36\"}}'\n",
      " [x] Sent 'bp.*':'{\"systolic_blood_pressure\": {\"value\": 151, \"unit\": \"mmHg\"}, \"diastolic_blood_pressure\": {\"value\": 66, \"unit\": \"mmHg\"}, \"effective_time_frame\": {\"date_time\": \"2020-09-01T11:13:02-03:11\"}}'\n",
      " [x] Sent 'bp.*':'{\"systolic_blood_pressure\": {\"value\": 139, \"unit\": \"mmHg\"}, \"diastolic_blood_pressure\": {\"value\": 113, \"unit\": \"mmHg\"}, \"effective_time_frame\": {\"date_time\": \"2020-10-11T22:05:29-00:09\"}}'\n",
      " [x] Sent 'bp.*':'{\"systolic_blood_pressure\": {\"value\": 110, \"unit\": \"mmHg\"}, \"diastolic_blood_pressure\": {\"value\": 93, \"unit\": \"mmHg\"}, \"effective_time_frame\": {\"date_time\": \"2020-01-10T12:12:35-03:26\"}}'\n",
      " [x] Sent 'bp.*':'{\"systolic_blood_pressure\": {\"value\": 74, \"unit\": \"mmHg\"}, \"diastolic_blood_pressure\": {\"value\": 114, \"unit\": \"mmHg\"}, \"effective_time_frame\": {\"date_time\": \"2020-07-17T05:05:11-06:54\"}}'\n"
     ]
    }
   ],
   "source": [
    "f = open('bp_data_file.json',)\n",
    " \n",
    "# returns JSON object as\n",
    "# a dictionary\n",
    "data = json.load(f)\n",
    " \n",
    "# Iterating through the json\n",
    "# list\n",
    "thresh = 40\n",
    "for i in data['BP']:\n",
    "    msg = json.dumps(i)\n",
    "    thresh = thresh -1\n",
    "    if thresh ==0 :\n",
    "        break\n",
    "    publish_to_broker(topic_name, routing_key,msg)\n",
    "    time.sleep(4)\n",
    "    \n",
    "    \n",
    "f.close()\n",
    "connection.close()"
   ]
  },
  {
   "cell_type": "code",
   "execution_count": null,
   "metadata": {},
   "outputs": [],
   "source": []
  }
 ],
 "metadata": {
  "kernelspec": {
   "display_name": "Python 3",
   "language": "python",
   "name": "python3"
  },
  "language_info": {
   "codemirror_mode": {
    "name": "ipython",
    "version": 3
   },
   "file_extension": ".py",
   "mimetype": "text/x-python",
   "name": "python",
   "nbconvert_exporter": "python",
   "pygments_lexer": "ipython3",
   "version": "3.8.5"
  }
 },
 "nbformat": 4,
 "nbformat_minor": 4
}
